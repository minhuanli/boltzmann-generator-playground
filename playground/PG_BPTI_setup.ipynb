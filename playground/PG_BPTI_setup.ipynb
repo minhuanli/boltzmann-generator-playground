{
 "cells": [
  {
   "cell_type": "code",
   "execution_count": 1,
   "metadata": {},
   "outputs": [
    {
     "name": "stderr",
     "output_type": "stream",
     "text": [
      "Using TensorFlow backend.\n"
     ]
    }
   ],
   "source": [
    "import numpy as np\n",
    "import matplotlib.pyplot as plt\n",
    "from matplotlib import rcParams\n",
    "import keras\n",
    "import tensorflow as tf"
   ]
  },
  {
   "cell_type": "code",
   "execution_count": 2,
   "metadata": {},
   "outputs": [],
   "source": [
    "from IPython.display import SVG\n",
    "from keras.utils.vis_utils import model_to_dot"
   ]
  },
  {
   "cell_type": "code",
   "execution_count": 3,
   "metadata": {},
   "outputs": [
    {
     "data": {
      "application/vnd.jupyter.widget-view+json": {
       "model_id": "3e689039f7484186a90ef31b906598b5",
       "version_major": 2,
       "version_minor": 0
      },
      "text/plain": []
     },
     "metadata": {},
     "output_type": "display_data"
    }
   ],
   "source": [
    "import mdtraj, nglview"
   ]
  },
  {
   "cell_type": "code",
   "execution_count": 3,
   "metadata": {},
   "outputs": [],
   "source": [
    "rcParams.update({'font.size': 16})"
   ]
  },
  {
   "cell_type": "code",
   "execution_count": 6,
   "metadata": {},
   "outputs": [],
   "source": [
    "# Switch AUTORELOAD ON. Disable this when in production mode!\n",
    "%load_ext autoreload\n",
    "%autoreload 2"
   ]
  },
  {
   "cell_type": "code",
   "execution_count": 4,
   "metadata": {},
   "outputs": [],
   "source": [
    "from deep_boltzmann.networks.invertible import EnergyInvNet, invnet\n",
    "from deep_boltzmann.networks.plot import test_xz_projection, test_generate_x\n",
    "from deep_boltzmann.util import count_transitions\n",
    "from deep_boltzmann.sampling.analysis import free_energy_bootstrap, mean_finite, std_finite\n",
    "from deep_boltzmann.networks.training import MLTrainer, FlexibleTrainer\n",
    "from deep_boltzmann.util import save_obj, load_obj"
   ]
  },
  {
   "cell_type": "markdown",
   "metadata": {},
   "source": [
    "BPTI\n",
    "-----"
   ]
  },
  {
   "cell_type": "code",
   "execution_count": 1,
   "metadata": {},
   "outputs": [
    {
     "name": "stderr",
     "output_type": "stream",
     "text": [
      "Using TensorFlow backend.\n"
     ]
    }
   ],
   "source": [
    "import numpy as np\n",
    "from matplotlib import rcParams\n",
    "import keras\n",
    "import tensorflow as tf\n",
    "\n",
    "from keras.utils.vis_utils import model_to_dot\n",
    "\n",
    "from deep_boltzmann.networks.invertible import invnet\n",
    "from deep_boltzmann.models.openmm import OpenMMEnergy\n",
    "from deep_boltzmann import openmmutils\n",
    "from deep_boltzmann.networks.invertible import EnergyInvNet\n",
    "import mdtraj as md\n",
    "from simtk import openmm, unit"
   ]
  },
  {
   "cell_type": "code",
   "execution_count": 2,
   "metadata": {},
   "outputs": [],
   "source": [
    "# setup BPTI\n",
    "INTEGRATOR_ARGS = (300*unit.kelvin,\n",
    "                   1.0/unit.picoseconds,\n",
    "                    2.0*unit.femtoseconds)\n",
    "\n",
    "data_sets=[]\n",
    "pdb = openmm.app.PDBFile('./bpti/bpti.pdb')\n",
    "forcefield = openmm.app.ForceField('amber99sbildn.xml', 'amber99_obc.xml')\n",
    "\n",
    "system = forcefield.createSystem(pdb.topology,\n",
    "    nonbondedMethod=openmm.app.CutoffNonPeriodic, nonbondedCutoff=1.0*unit.nanometers,\n",
    "    constraints=None, rigidWater=True)\n",
    "integrator = openmm.LangevinIntegrator(300*unit.kelvin, 1.0/unit.picoseconds,\n",
    "    2.0*unit.femtoseconds)"
   ]
  },
  {
   "cell_type": "code",
   "execution_count": 3,
   "metadata": {},
   "outputs": [],
   "source": [
    "simulation = openmm.app.Simulation(pdb.topology, system, integrator)"
   ]
  },
  {
   "cell_type": "code",
   "execution_count": 4,
   "metadata": {},
   "outputs": [],
   "source": [
    "bpti_omm_energy = OpenMMEnergy(system,\n",
    "                               openmm.LangevinIntegrator,\n",
    "                               unit.nanometers,\n",
    "                               n_atoms=md.Topology().from_openmm(simulation.topology).n_atoms,\n",
    "                               openmm_integrator_args=INTEGRATOR_ARGS\n",
    "                              )\n",
    "\n",
    "mdtraj_topology = md.Topology().from_openmm(pdb.topology)\n",
    "\n",
    "cartesian = ['CA', 'C', 'N']\n",
    "cart = mdtraj_topology.select(' '.join([\"name \" + s for s in cartesian]))\n",
    "from deep_boltzmann.models.proteins import mdtraj2Z\n",
    "Z_ = np.array(mdtraj2Z(mdtraj_topology))"
   ]
  },
  {
   "cell_type": "code",
   "execution_count": 5,
   "metadata": {},
   "outputs": [],
   "source": [
    "X0 = pdb.getPositions(asNumpy=True).ravel().reshape(1,-1).astype('float32')"
   ]
  },
  {
   "cell_type": "code",
   "execution_count": 13,
   "metadata": {},
   "outputs": [
    {
     "name": "stdout",
     "output_type": "stream",
     "text": [
      "II<RRRRRRRR>\n",
      "I 2676 0 0\n"
     ]
    },
    {
     "name": "stderr",
     "output_type": "stream",
     "text": [
      "/opt/miniconda3/envs/BG/lib/python3.7/site-packages/Deep_Boltzmann_Package-0.1-py3.7.egg/deep_boltzmann/networks/invertible_coordinate_transforms.py:22: RuntimeWarning: invalid value encountered in true_divide\n",
      "/opt/miniconda3/envs/BG/lib/python3.7/site-packages/Deep_Boltzmann_Package-0.1-py3.7.egg/deep_boltzmann/networks/invertible_coordinate_transforms.py:761: RuntimeWarning: invalid value encountered in log\n"
     ]
    },
    {
     "name": "stdout",
     "output_type": "stream",
     "text": [
      "I 2670 0 6\n",
      "< 2664 0 6\n",
      "R 1332 1332 6\n",
      "R 1332 1332 6\n",
      "R 1332 1332 6\n",
      "R 1332 1332 6\n",
      "R 1332 1332 6\n",
      "R 1332 1332 6\n",
      "R 1332 1332 6\n",
      "R 1332 1332 6\n",
      "> 1332 1332 6\n"
     ]
    }
   ],
   "source": [
    "BG = invnet(X0.shape[1], 'IRRRRRRRR', bpti_omm_energy, nl_layers=4, nl_hidden=128, \n",
    "            nl_activation='relu', nl_activation_scale='tanh',\n",
    "           ic=Z_, ic_cart=cart, ic_cart_norm=X0)"
   ]
  },
  {
   "cell_type": "code",
   "execution_count": 14,
   "metadata": {},
   "outputs": [
    {
     "name": "stdout",
     "output_type": "stream",
     "text": [
      "Epoch 0/15 loss nan \n",
      "Epoch 1/15 loss nan \n",
      "Epoch 2/15 loss nan \n",
      "Epoch 3/15 loss nan \n",
      "Epoch 4/15 loss nan \n",
      "Epoch 5/15 loss nan \n",
      "Epoch 6/15 loss nan \n",
      "Epoch 7/15 loss nan \n",
      "Epoch 8/15 loss nan \n",
      "Epoch 9/15 loss nan \n",
      "Epoch 10/15 loss nan \n",
      "Epoch 11/15 loss nan \n",
      "Epoch 12/15 loss nan \n",
      "Epoch 13/15 loss nan \n",
      "Epoch 14/15 loss nan \n"
     ]
    }
   ],
   "source": [
    "loss_bg_trainML, loss_bg_valML = BG.train_ML(X0, epochs=15, batch_size=1000, lr=0.0001,\n",
    "                                             std=1.0, verbose=1, return_test_energies=False)"
   ]
  },
  {
   "cell_type": "code",
   "execution_count": 12,
   "metadata": {},
   "outputs": [
    {
     "data": {
      "text/plain": [
       "array([-3401.8135], dtype=float32)"
      ]
     },
     "execution_count": 12,
     "metadata": {},
     "output_type": "execute_result"
    }
   ],
   "source": [
    "BG.energy_model.energy(X0)"
   ]
  },
  {
   "cell_type": "code",
   "execution_count": 19,
   "metadata": {},
   "outputs": [
    {
     "data": {
      "text/plain": [
       "True"
      ]
     },
     "execution_count": 19,
     "metadata": {},
     "output_type": "execute_result"
    }
   ],
   "source": [
    "hasattr(BG.layers[0], 'log_det_zx')"
   ]
  },
  {
   "cell_type": "code",
   "execution_count": null,
   "metadata": {},
   "outputs": [],
   "source": []
  }
 ],
 "metadata": {
  "anaconda-cloud": {},
  "kernelspec": {
   "display_name": "BG",
   "language": "python",
   "name": "bg"
  },
  "language_info": {
   "codemirror_mode": {
    "name": "ipython",
    "version": 3
   },
   "file_extension": ".py",
   "mimetype": "text/x-python",
   "name": "python",
   "nbconvert_exporter": "python",
   "pygments_lexer": "ipython3",
   "version": "3.7.0"
  }
 },
 "nbformat": 4,
 "nbformat_minor": 4
}
