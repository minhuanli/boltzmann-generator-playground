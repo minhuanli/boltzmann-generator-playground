{
 "cells": [
  {
   "cell_type": "code",
   "execution_count": 1,
   "metadata": {},
   "outputs": [],
   "source": [
    "from simtk.openmm.app import ForceField, PDBFile, Modeller, Simulation, PME, HBonds, StateDataReporter\n",
    "from simtk.openmm import app, LangevinIntegrator, MonteCarloBarostat\n",
    "from simtk.unit import *\n",
    "from sys import stdout\n",
    "from mdtraj.reporters import HDF5Reporter\n",
    "\n",
    "import mdtraj\n",
    "import numpy as np\n",
    "import matplotlib.pyplot as plt"
   ]
  },
  {
   "cell_type": "code",
   "execution_count": 2,
   "metadata": {},
   "outputs": [],
   "source": [
    "#----------------------------------------------------------------------#\n",
    "# Parameters\n",
    "eqtime = 500000   # 1ns\n",
    "prtime = 50000000 # 100ns\n",
    "#----------------------------------------------------------------------#"
   ]
  },
  {
   "cell_type": "code",
   "execution_count": 4,
   "metadata": {},
   "outputs": [],
   "source": [
    "ff = ForceField('amber14/protein.ff14SB.xml', 'amber14/tip3p.xml')\n",
    "pdb = PDBFile(\"pdz3_rat_apo_fixed.pdb\")\n",
    "modeller = Modeller(pdb.topology, pdb.positions)\n",
    "#modeller.addSolvent(ff, boxSize=(90., 90., 90.)*angstroms)\n",
    "system = ff.createSystem(modeller.topology,\n",
    "                         removeCMMotion=False,\n",
    "                         nonbondedMethod=app.CutoffNonPeriodic, nonbondedCutoff=1.0*nanometers,\n",
    "                         constraints=None, rigidWater=True)\n",
    "#barostat = MonteCarloBarostat(1.0*bar, 277*kelvin, 25)\n",
    "#system.addForce(barostat)"
   ]
  },
  {
   "cell_type": "code",
   "execution_count": 5,
   "metadata": {},
   "outputs": [
    {
     "name": "stdout",
     "output_type": "stream",
     "text": [
      "Simulation running with OpenCL\n",
      "Minimizing... done\n"
     ]
    }
   ],
   "source": [
    "# 2) Setup MD simulation, minimize, and equilibrate\n",
    "integrator = LangevinIntegrator(277*kelvin, 1/picosecond, 0.002*picoseconds)    \n",
    "simulation = Simulation(modeller.topology, system, integrator)\n",
    "platform = simulation.context.getPlatform()\n",
    "print(f\"Simulation running with {platform.getName()}\")\n",
    "simulation.context.setPositions(modeller.positions)\n",
    "\n",
    "print(\"Minimizing... \", end=\"\", flush=True)\n",
    "simulation.minimizeEnergy()\n",
    "print(\"done\", flush=True)"
   ]
  },
  {
   "cell_type": "code",
   "execution_count": 6,
   "metadata": {},
   "outputs": [
    {
     "name": "stdout",
     "output_type": "stream",
     "text": [
      "#\"Step\",\"Time (ps)\",\"Total Energy (kJ/mole)\",\"Temperature (K)\",\"Box Volume (nm^3)\",\"Elapsed Time (s)\"\n",
      "50000,99.99999999994834,10820.017575599253,272.9920535821453,729.3159456321972,0.0004208087921142578\n",
      "100000,200.00000000022686,10650.262529300526,269.9060828446216,729.3159456321972,20.366405725479126\n",
      "150000,300.00000000070435,10674.070968327578,274.08510062561476,729.3159456321972,41.441725969314575\n",
      "200000,400.00000000118183,11043.480946414173,277.1887970271424,729.3159456321972,62.508070945739746\n",
      "250000,500.0000000016593,11309.745137240738,287.2715107701972,729.3159456321972,83.64516592025757\n",
      "300000,599.9999999996356,10878.915440037847,280.381540614316,729.3159456321972,104.72516703605652\n",
      "350000,699.999999997271,11144.249186750501,285.00120006038907,729.3159456321972,125.86165404319763\n",
      "400000,799.9999999949063,10819.482116993517,280.0819704936588,729.3159456321972,146.93242383003235\n",
      "450000,899.9999999925416,10845.288577603176,274.3757574874,729.3159456321972,168.27917098999023\n",
      "500000,999.9999999901769,10964.214300312102,282.0582525784658,729.3159456321972,189.83171391487122\n",
      "Equilibrating... done\n"
     ]
    }
   ],
   "source": [
    "# Reallocate the velocity, another \"equillibriate time\"\n",
    "simulation.context.setVelocitiesToTemperature(277*kelvin)\n",
    "\n",
    "statereporter = StateDataReporter(stdout, 50000, step=True, time=True, volume=True, totalEnergy=True, temperature=True, elapsedTime=True)\n",
    "simulation.reporters.append(statereporter)\n",
    "simulation.step(eqtime)\n",
    "print(\"Equilibrating... done\", flush=True)\n",
    "simulation.reporters = []"
   ]
  },
  {
   "cell_type": "code",
   "execution_count": 7,
   "metadata": {},
   "outputs": [],
   "source": [
    "#save the checkpoint, everything is inside\n",
    "simulation.saveCheckpoint(\"equilibrated.chkpt\")"
   ]
  },
  {
   "cell_type": "code",
   "execution_count": 8,
   "metadata": {},
   "outputs": [
    {
     "name": "stdout",
     "output_type": "stream",
     "text": [
      "Production run... done\n"
     ]
    }
   ],
   "source": [
    "# 3) Run production simulation\n",
    "\n",
    "print(\"Production run... \", end=\"\", flush=True)\n",
    "\n",
    "simulation.loadCheckpoint(\"equilibrated.chkpt\")\n",
    "\n",
    "simulation.context.setVelocitiesToTemperature(277*kelvin)\n",
    "statereporter = StateDataReporter(\"traj.csv\", 50000, step=True, time=True, volume=True, totalEnergy=True, temperature=True, elapsedTime=True)\n",
    "trajreporter  = HDF5Reporter(f\"traj.h5\", 500)\n",
    "simulation.reporters.append(statereporter)\n",
    "simulation.reporters.append(trajreporter)\n",
    "simulation.step(50000000)\n",
    "trajreporter.close()\n",
    "print(\"done\", flush=True)"
   ]
  },
  {
   "cell_type": "code",
   "execution_count": null,
   "metadata": {},
   "outputs": [],
   "source": []
  }
 ],
 "metadata": {
  "kernelspec": {
   "display_name": "rs",
   "language": "python",
   "name": "rs"
  },
  "language_info": {
   "codemirror_mode": {
    "name": "ipython",
    "version": 3
   },
   "file_extension": ".py",
   "mimetype": "text/x-python",
   "name": "python",
   "nbconvert_exporter": "python",
   "pygments_lexer": "ipython3",
   "version": "3.7.9"
  }
 },
 "nbformat": 4,
 "nbformat_minor": 4
}
